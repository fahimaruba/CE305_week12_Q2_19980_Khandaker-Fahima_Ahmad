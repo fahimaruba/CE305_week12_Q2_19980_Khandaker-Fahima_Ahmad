{
  "nbformat": 4,
  "nbformat_minor": 0,
  "metadata": {
    "colab": {
      "provenance": [],
      "authorship_tag": "ABX9TyNRWyG67XXAQQWBiO6rkbEh",
      "include_colab_link": true
    },
    "kernelspec": {
      "name": "python3",
      "display_name": "Python 3"
    },
    "language_info": {
      "name": "python"
    }
  },
  "cells": [
    {
      "cell_type": "markdown",
      "metadata": {
        "id": "view-in-github",
        "colab_type": "text"
      },
      "source": [
        "<a href=\"https://colab.research.google.com/github/fahimaruba/CE305_week12_Q2_19980_Khandaker-Fahima_Ahmad/blob/main/Break_in_Marie.ipynb\" target=\"_parent\"><img src=\"https://colab.research.google.com/assets/colab-badge.svg\" alt=\"Open In Colab\"/></a>"
      ]
    },
    {
      "cell_type": "code",
      "execution_count": null,
      "metadata": {
        "id": "HVPuh8JXHbGt"
      },
      "outputs": [],
      "source": [
        "ORG 100\n",
        "Load A\t/Load A\n",
        "Store A\t/Store A\n",
        "loop, Load A\t/load A at the beginning of the loop\n",
        "      Subt FIVE\t/subtract A with 5\n",
        "      Skipcond 000\t/condition to see if the subtracted value is less than 0\n",
        "      Jump Endloop\t/If the condition is met then skip this step, if not then jump to Endloop\n",
        "      Load A\t/load A\n",
        "      Subt THREE\t/subtract A with 3\n",
        "      Skipcond 400\t/condition to see if the subtracted value is equal to 0\n",
        "      Jump loop1\t/if the condition is met then skip this step, but if not then jump to loop1\n",
        "      Jump Endloop\t/Jump to Endloop\n",
        "\n",
        "loop1,      Load A\t/load A\n",
        "            output\t/print A\n",
        "            Add ONE\t/ADD A with ONE\n",
        "            Store A\t/Store new A\n",
        "            Jump loop\t/Jump to loop\n",
        "\n",
        "\n",
        "Endloop, HALT\t/Ends the program\n",
        "\n",
        "\n",
        "A, Dec 0\t/this is to declare the variable A\n",
        "THREE, Dec 3\t/this is to declare the variable THREE\n",
        "ONE, DEC 1\t/this is to declare the variable ONE\n",
        "FIVE, DEC 5\t/this is to declare the variable FIVE\n",
        "END 100\n",
        ""
      ]
    }
  ]
}